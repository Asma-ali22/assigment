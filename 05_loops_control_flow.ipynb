{
  "nbformat": 4,
  "nbformat_minor": 0,
  "metadata": {
    "colab": {
      "provenance": [],
      "authorship_tag": "ABX9TyN0Q92cxiJKqLxOb6tC1vd/",
      "include_colab_link": true
    },
    "kernelspec": {
      "name": "python3",
      "display_name": "Python 3"
    },
    "language_info": {
      "name": "python"
    }
  },
  "cells": [
    {
      "cell_type": "markdown",
      "metadata": {
        "id": "view-in-github",
        "colab_type": "text"
      },
      "source": [
        "<a href=\"https://colab.research.google.com/github/Asma-ali22/assigment/blob/main/05_loops_control_flow.ipynb\" target=\"_parent\"><img src=\"https://colab.research.google.com/assets/colab-badge.svg\" alt=\"Open In Colab\"/></a>"
      ]
    },
    {
      "cell_type": "code",
      "execution_count": null,
      "metadata": {
        "id": "HbeMhA_3zUhu"
      },
      "outputs": [],
      "source": []
    },
    {
      "cell_type": "code",
      "source": [
        "import random\n",
        "print(\"00_guess_my_number\")\n",
        "\n",
        "def main():\n",
        "  secret_number=random.randint(1,100)\n",
        "  print(\"I am thinking of a number between 1 and 100......\")\n",
        "\n",
        "  guess=int(input(\"Enter a guess:\"))\n",
        "\n",
        "  while guess != secret_number:\n",
        "     if guess < secret_number:\n",
        "       print(\"Your guess is too low.\")\n",
        "  else:\n",
        "      print(\"Your guess is to high.\")\n",
        "  guess=int(input(\"Enter a guess:\"))\n",
        "\n",
        "  print(f\"Congratulation!The number was {secret_number}\")\n",
        "\n",
        "if __name__ == \"__main_\":\n",
        " main()"
      ],
      "metadata": {
        "colab": {
          "base_uri": "https://localhost:8080/"
        },
        "id": "bCpB42bzz3rK",
        "outputId": "93bd76cc-b53f-43e5-bfaf-b13904844135"
      },
      "execution_count": 8,
      "outputs": [
        {
          "output_type": "stream",
          "name": "stdout",
          "text": [
            "00_guess_my_number\n"
          ]
        }
      ]
    },
    {
      "cell_type": "code",
      "source": [
        "print(\"01_fibonacci\")\n",
        "\n",
        "max_value=10000\n",
        "\n",
        "def main():\n",
        "  a,b=0,1\n",
        "  print(a,b, end = \" \")\n",
        "\n",
        "  while True:\n",
        "    c=a+b\n",
        "    if c>=max_value:\n",
        "      break\n",
        "    print(c,end=\" \")\n",
        "    a,b=b,c\n",
        "if __name__ ==\"__main__\":\n",
        "  main()"
      ],
      "metadata": {
        "colab": {
          "base_uri": "https://localhost:8080/"
        },
        "id": "uVjPPusi59Am",
        "outputId": "c6983b57-eb3c-497c-a234-84ca8f93b189"
      },
      "execution_count": 9,
      "outputs": [
        {
          "output_type": "stream",
          "name": "stdout",
          "text": [
            "01_fibonacci\n",
            "0 1 1 2 3 5 8 13 21 34 55 89 144 233 377 610 987 1597 2584 4181 6765 "
          ]
        }
      ]
    },
    {
      "cell_type": "code",
      "source": [
        "print(\"02_print_events\")\n",
        "\n",
        "def main():\n",
        "  for i in range(20):\n",
        "    print(i*2)\n",
        "\n",
        "if __name__ == \"__main__\":\n",
        "  main()"
      ],
      "metadata": {
        "colab": {
          "base_uri": "https://localhost:8080/"
        },
        "id": "YEQOnSv07OqO",
        "outputId": "dd9fde06-c8ae-4288-8ab6-58e12060a108"
      },
      "execution_count": 10,
      "outputs": [
        {
          "output_type": "stream",
          "name": "stdout",
          "text": [
            "02_print_events\n",
            "0\n",
            "2\n",
            "4\n",
            "6\n",
            "8\n",
            "10\n",
            "12\n",
            "14\n",
            "16\n",
            "18\n",
            "20\n",
            "22\n",
            "24\n",
            "26\n",
            "28\n",
            "30\n",
            "32\n",
            "34\n",
            "36\n",
            "38\n"
          ]
        }
      ]
    },
    {
      "cell_type": "code",
      "source": [
        "print(\"03_wholesome_machine\")\n",
        "\n",
        "correct_affermation=\"I am capable of doing anything.I put my mind too.\"\n",
        "\n",
        "def main():\n",
        "  print(\"Welcome To The WQholesome Machine\")\n",
        "  while True:\n",
        "    user_input=input(\"please type the following affermation:\" + correct_affermation)\n",
        "    if user_input == correct_affermation:\n",
        "      print(\"That\\'s right! \")\n",
        "      break\n",
        "    else:\n",
        "      print(\"Hmmm  That was not the affermation.Please try again\")\n",
        "\n",
        "if __name__ == \"__main__\":\n",
        "  main()"
      ],
      "metadata": {
        "colab": {
          "base_uri": "https://localhost:8080/"
        },
        "id": "XRGgBMPRBLAy",
        "outputId": "b5dfef03-c503-474d-a737-27392cb3f4a9"
      },
      "execution_count": null,
      "outputs": [
        {
          "metadata": {
            "tags": null
          },
          "name": "stdout",
          "output_type": "stream",
          "text": [
            "03_wholesome_machine\n",
            "Welcome To The WQholesome Machine\n",
            "Hmmm  That was not the affermation.Please try again\n",
            "Hmmm  That was not the affermation.Please try again\n"
          ]
        }
      ]
    },
    {
      "cell_type": "code",
      "source": [
        "print(\"04_liftoff\")\n",
        "\n",
        "def main():\n",
        "  for i in range(10,0,-1):\n",
        "    print(i,end =\" \")\n",
        "    print(\"liftoff\")\n",
        "\n",
        "if __name__ == \"__main__\":\n",
        "  main()"
      ],
      "metadata": {
        "id": "Tbl3zvIjCxDK"
      },
      "execution_count": null,
      "outputs": []
    },
    {
      "cell_type": "code",
      "source": [
        "print(\"05_double_it\")\n",
        "\n",
        "def main():\n",
        "  user_value=int(input(\"Enter a number: \"))\n",
        "  while user_value<100:\n",
        "    user_value==user_value*2\n",
        "    print(user_value)\n",
        "\n",
        "if__name__ == \"__main__\":\n",
        "  main()"
      ],
      "metadata": {
        "id": "Ai1UKP_9DaJ1"
      },
      "execution_count": null,
      "outputs": []
    }
  ]
}