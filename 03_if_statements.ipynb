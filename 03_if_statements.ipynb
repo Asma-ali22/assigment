{
  "nbformat": 4,
  "nbformat_minor": 0,
  "metadata": {
    "colab": {
      "provenance": [],
      "authorship_tag": "ABX9TyMv8UHugtEyYiLfLJVeeHwF",
      "include_colab_link": true
    },
    "kernelspec": {
      "name": "python3",
      "display_name": "Python 3"
    },
    "language_info": {
      "name": "python"
    }
  },
  "cells": [
    {
      "cell_type": "markdown",
      "metadata": {
        "id": "view-in-github",
        "colab_type": "text"
      },
      "source": [
        "<a href=\"https://colab.research.google.com/github/Asma-ali22/assigment/blob/main/03_if_statements.ipynb\" target=\"_parent\"><img src=\"https://colab.research.google.com/assets/colab-badge.svg\" alt=\"Open In Colab\"/></a>"
      ]
    },
    {
      "cell_type": "code",
      "execution_count": null,
      "metadata": {
        "id": "oP8TGv0Gb8lU"
      },
      "outputs": [],
      "source": []
    },
    {
      "cell_type": "code",
      "source": [
        "print(\"01_print_events\")\n",
        "\n",
        "def even():\n",
        "  for i in range(40):\n",
        "    even=i*2\n",
        "    print(even)\n",
        "\n",
        "if __name__ == \"__main__\":\n",
        "  even()\n"
      ],
      "metadata": {
        "colab": {
          "base_uri": "https://localhost:8080/"
        },
        "id": "x0xPVSUNcGOz",
        "outputId": "623a0975-1130-4237-f0b2-18f6905fa421"
      },
      "execution_count": 1,
      "outputs": [
        {
          "output_type": "stream",
          "name": "stdout",
          "text": [
            "01_print_events\n",
            "0\n",
            "2\n",
            "4\n",
            "6\n",
            "8\n",
            "10\n",
            "12\n",
            "14\n",
            "16\n",
            "18\n",
            "20\n",
            "22\n",
            "24\n",
            "26\n",
            "28\n",
            "30\n",
            "32\n",
            "34\n",
            "36\n",
            "38\n",
            "40\n",
            "42\n",
            "44\n",
            "46\n",
            "48\n",
            "50\n",
            "52\n",
            "54\n",
            "56\n",
            "58\n",
            "60\n",
            "62\n",
            "64\n",
            "66\n",
            "68\n",
            "70\n",
            "72\n",
            "74\n",
            "76\n",
            "78\n"
          ]
        }
      ]
    },
    {
      "cell_type": "code",
      "source": [
        "print(\"02_international_voting_age\")\n",
        "\n",
        "Peturksbouipo:int=16\n",
        "Stanlau:int=25\n",
        "Mayengua:int=48\n",
        "age:int=int(input(\"How old are you\"))\n",
        "\n",
        "def main():\n",
        "  if age>=Peturksbouipo:\n",
        "    print(f\"Your age is {age} .You are eligible to vote in Peturksbouipo!\")\n",
        "  else:\n",
        "    print(f\"your age is {age}.You are not eligible to vote in Peturksbouipo!\")\n",
        "\n",
        "  if age>=Stanlau:\n",
        "     print(f\"Your age is {age} .You are eligible to vote in Stanlau!\")\n",
        "  else:\n",
        "    print(f\"your age is {age}.You are not eligible to vote in Stanlau!\")\n",
        "\n",
        "  if age>=Mayengua:\n",
        "     print(f\"Your age is {age} .You are eligible to vote in Mayengua!\")\n",
        "  else:\n",
        "    print(f\"your age is {age}.You are not eligible to vote in Mayengua!\")\n",
        "\n",
        "if __name__ == \"__main__\":\n",
        "  main()\n",
        "\n"
      ],
      "metadata": {
        "colab": {
          "base_uri": "https://localhost:8080/"
        },
        "id": "eMOknMhueTQH",
        "outputId": "ae84f088-c50a-4504-995f-71ae94f5ddb8"
      },
      "execution_count": 3,
      "outputs": [
        {
          "output_type": "stream",
          "name": "stdout",
          "text": [
            "02_international_voting_age\n",
            "How old are you46\n",
            "Your age is 46 .You are eligible to vote in Peturksbouipo!\n",
            "Your age is 46 .You are eligible to vote in Stanlau!\n",
            "your age is 46.You are not eligible to vote in Mayengua!\n"
          ]
        }
      ]
    },
    {
      "cell_type": "code",
      "source": [
        "print(\"03_leap_year\")\n",
        "\n",
        "def leap_year():\n",
        "  year:int=int(input('Enter as year.'))\n",
        "\n",
        "  if year % 4==0:\n",
        "    if year % 100==0:\n",
        "     if year % 400==0:\n",
        "        print(f'{year} is a leap year. ')\n",
        "     else:\n",
        "        print(f'{year} is not a leap year. ')\n",
        "    else:\n",
        "        print(f'{year} is not a leap year. ')\n",
        "  else:\n",
        "        print(f'{year} is not a leap year. ')\n",
        "if __name__ ==\"__main__\":\n",
        "  leap_year()"
      ],
      "metadata": {
        "colab": {
          "base_uri": "https://localhost:8080/"
        },
        "id": "A_JY7HcHhq4A",
        "outputId": "6104ec0e-83ac-49be-8100-235d7f7f910f"
      },
      "execution_count": 7,
      "outputs": [
        {
          "output_type": "stream",
          "name": "stdout",
          "text": [
            "03_leap_year\n",
            "Enter as year.56\n",
            "56 is not a leap year. \n"
          ]
        }
      ]
    },
    {
      "cell_type": "code",
      "source": [
        "print(\"04_tall_enough_to_ride\")\n",
        "\n",
        "min_height:int=50\n",
        "def main():\n",
        "  user:int=int(input(\"How tall are you\"))\n",
        "  if user >= min_height:\n",
        "    print('You are tall enough to ride')\n",
        "  else:\n",
        "    print(\"You are not tall enough to ride.May be next year. \")\n",
        "\n",
        "if __name__ ==\"__main__\":\n",
        "  main()"
      ],
      "metadata": {
        "colab": {
          "base_uri": "https://localhost:8080/"
        },
        "id": "bUJjXCi6jthv",
        "outputId": "93ea5a50-75c9-4d82-a16e-84bb345687ed"
      },
      "execution_count": 9,
      "outputs": [
        {
          "output_type": "stream",
          "name": "stdout",
          "text": [
            "04_tall_enough_to_ride\n",
            "How tall are you45\n",
            "You are not tall enough to ride.May be next year. \n"
          ]
        }
      ]
    },
    {
      "cell_type": "code",
      "source": [
        "print(\"05_random_numbers\")\n",
        "import random\n",
        "def main():\n",
        "  for i in range(10):\n",
        "    num:list[int]=random.randint(1,100)\n",
        "    print(num)\n",
        "\n",
        "if __name__ ==\"__main__\":\n",
        "  main()"
      ],
      "metadata": {
        "colab": {
          "base_uri": "https://localhost:8080/"
        },
        "id": "g1X1nv9NkxHo",
        "outputId": "2833b335-b7d0-40d1-dc41-07764daf4bd3"
      },
      "execution_count": 10,
      "outputs": [
        {
          "output_type": "stream",
          "name": "stdout",
          "text": [
            "05_random_numbers\n",
            "41\n",
            "30\n",
            "47\n",
            "78\n",
            "35\n",
            "31\n",
            "28\n",
            "29\n",
            "94\n",
            "34\n"
          ]
        }
      ]
    }
  ]
}