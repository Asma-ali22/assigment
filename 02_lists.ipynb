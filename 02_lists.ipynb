{
  "nbformat": 4,
  "nbformat_minor": 0,
  "metadata": {
    "colab": {
      "provenance": [],
      "authorship_tag": "ABX9TyP8Z6D9gNlxsCmGJnJaZxGy",
      "include_colab_link": true
    },
    "kernelspec": {
      "name": "python3",
      "display_name": "Python 3"
    },
    "language_info": {
      "name": "python"
    }
  },
  "cells": [
    {
      "cell_type": "markdown",
      "metadata": {
        "id": "view-in-github",
        "colab_type": "text"
      },
      "source": [
        "<a href=\"https://colab.research.google.com/github/Asma-ali22/assigment/blob/main/02_lists.ipynb\" target=\"_parent\"><img src=\"https://colab.research.google.com/assets/colab-badge.svg\" alt=\"Open In Colab\"/></a>"
      ]
    },
    {
      "cell_type": "code",
      "execution_count": null,
      "metadata": {
        "id": "Ph1CqlLz1OXL"
      },
      "outputs": [],
      "source": []
    },
    {
      "cell_type": "code",
      "source": [
        "print(\"01_add_many_number\")\n",
        "def add_number(numbers)->int:\n",
        "  num:int = 0\n",
        "  for i in numbers:\n",
        "    num +=i\n",
        "    return num\n",
        "\n",
        "def main():\n",
        "  numbers:list[int]=[1,2,3,4,5]\n",
        "  sum=add_number(numbers)\n",
        "  print(sum)\n",
        "\n",
        "if __name__  == \"__main__\":\n",
        "  main()"
      ],
      "metadata": {
        "colab": {
          "base_uri": "https://localhost:8080/"
        },
        "id": "pWRjEayB11q-",
        "outputId": "4a80ec24-f2c6-4c94-efae-e943feeb94f9"
      },
      "execution_count": 22,
      "outputs": [
        {
          "output_type": "stream",
          "name": "stdout",
          "text": [
            "01_add_many_number\n",
            "1\n"
          ]
        }
      ]
    },
    {
      "cell_type": "code",
      "source": [
        "print(\"02_double_list\")\n",
        "\n",
        "def main():\n",
        "  numbers:list[int]=[1,2,3,4,5]\n",
        "  for i in range(len(numbers)):\n",
        "    index =numbers[i]\n",
        "    numbers[i] = index*2\n",
        "  print(numbers)\n",
        "\n",
        "if __name__ == \"__main__\":\n",
        "    main()"
      ],
      "metadata": {
        "colab": {
          "base_uri": "https://localhost:8080/"
        },
        "id": "eTFI4RxZ3042",
        "outputId": "981f862a-388b-477e-ba03-71b0a70a1ea6"
      },
      "execution_count": 16,
      "outputs": [
        {
          "output_type": "stream",
          "name": "stdout",
          "text": [
            "02_double_list\n",
            "[2, 4, 6, 8, 10]\n"
          ]
        }
      ]
    },
    {
      "cell_type": "code",
      "source": [
        "print(\"04_flowing_with_data_structures\")\n",
        "\n",
        "def add_three_copies(lst,data):\n",
        "  for i in range(3):\n",
        "    lst.append(data)\n",
        "\n",
        "def main():\n",
        "  message =input(\"Enter a message to copy .\")\n",
        "  lst=[]\n",
        "  print(\"Before list :\" ,lst)\n",
        "  add_three_copies(lst,message)\n",
        "  print(\"After lst: \",lst)\n",
        "\n",
        "if __name__ == \"__main__\":\n",
        "  main()"
      ],
      "metadata": {
        "colab": {
          "base_uri": "https://localhost:8080/"
        },
        "id": "1a6x0gAd5kD3",
        "outputId": "6baa1c5d-5f3d-4cd5-80da-06e6c83dbde4"
      },
      "execution_count": 26,
      "outputs": [
        {
          "output_type": "stream",
          "name": "stdout",
          "text": [
            "04_flowing_with_data_structures\n",
            "Enter a message to copy .hello how are you\n",
            "Before list : []\n",
            "After lst:  ['hello how are you', 'hello how are you', 'hello how are you']\n"
          ]
        }
      ]
    },
    {
      "cell_type": "code",
      "source": [
        "print(\"05_get_first_element\")\n",
        "\n",
        "def get_first_element(lst):\n",
        "  print(lst[0])\n",
        "\n",
        "def get_lst():\n",
        "  lst=[]\n",
        "  elem:str=input(\"Enter an element to add to the list .\")\n",
        "  while elem != \"\":\n",
        "    lst.append(elem)\n",
        "    elem=input(\"Enter an element to add to the list .\")\n",
        "  return lst\n",
        "\n",
        "def main():\n",
        "  lst=get_lst()\n",
        "  get_first_element(lst)\n",
        "\n",
        "if __name__ == \"__main__\":\n",
        "  main()"
      ],
      "metadata": {
        "id": "YyU2FAWd7mzN",
        "outputId": "05da218e-dff2-4334-8f0d-4071c104c87f",
        "colab": {
          "base_uri": "https://localhost:8080/"
        }
      },
      "execution_count": 10,
      "outputs": [
        {
          "output_type": "stream",
          "name": "stdout",
          "text": [
            "05_get_first_element\n",
            "Enter an element to add to the list .a\n",
            "Enter an element to add to the list .a\n",
            "Enter an element to add to the list .c\n",
            "Enter an element to add to the list .h\n",
            "Enter an element to add to the list .\n",
            "a\n"
          ]
        }
      ]
    },
    {
      "cell_type": "code",
      "source": [
        "print(\"06_get_last_element\")\n",
        "\n",
        "def get_last_elements(lst):\n",
        "  print(lst[-1])\n",
        "\n",
        "def get_lst():\n",
        "  lst=[]\n",
        "  elem:str=input(\"Enter an element to add to the list .\")\n",
        "  while elem != \"\":\n",
        "    lst.append(elem)\n",
        "    elem=input(\"Enter an element to add to the list .\")\n",
        "  return lst\n",
        "\n",
        "def main():\n",
        "  lst=get_lst()\n",
        "  get_last_elements(lst)\n",
        "\n",
        "if __name__ == \"__main__\":\n",
        "  main()"
      ],
      "metadata": {
        "id": "pziVjhNx-uXx",
        "outputId": "e8f056d2-a523-40be-ee20-eb521e20d1df",
        "colab": {
          "base_uri": "https://localhost:8080/"
        }
      },
      "execution_count": 13,
      "outputs": [
        {
          "output_type": "stream",
          "name": "stdout",
          "text": [
            "06_get_last_element\n",
            "Enter an element to add to the list .g\n",
            "Enter an element to add to the list .j\n",
            "Enter an element to add to the list .k\n",
            "Enter an element to add to the list .p\n",
            "Enter an element to add to the list .b\n",
            "Enter an element to add to the list .m\n",
            "Enter an element to add to the list .\n",
            "m\n"
          ]
        }
      ]
    },
    {
      "cell_type": "code",
      "source": [
        "print(\"07_get_list\")\n",
        "\n",
        "def main():\n",
        "   lst=[]\n",
        "   val=input(\"Enter a value to add to the list. \")\n",
        "   while val:\n",
        "    lst.append(val)\n",
        "    val=input(\"Enter a value to the list. \")\n",
        "   print(\"Here is the list .\" ,lst)\n",
        "\n",
        "if __name__ == \"__main__\":\n",
        "  main()"
      ],
      "metadata": {
        "id": "eJ8ZWpmZAlVd",
        "outputId": "03e8d0c2-e848-4a8c-9e2c-3f35578ace80",
        "colab": {
          "base_uri": "https://localhost:8080/"
        }
      },
      "execution_count": null,
      "outputs": [
        {
          "metadata": {
            "tags": null
          },
          "name": "stdout",
          "output_type": "stream",
          "text": [
            "07_get_list\n"
          ]
        }
      ]
    },
    {
      "cell_type": "code",
      "source": [
        "print(\"08_shorten\")\n",
        "\n",
        "MAX_LENGTH:int=3\n",
        "def shorten(lst):\n",
        "  while len(lst)>=MAX_LENGTH:\n",
        "    last_element=lst.pop()\n",
        "    print(last_element)\n",
        "\n",
        "def get_lst():\n",
        "  lst=[]\n",
        "  element=input(\"Enter an element to add to the list\")\n",
        "  while element != \"\":\n",
        "    lst.append(element)\n",
        "    element=input('Enter an element to add to the list')\n",
        "    return lst\n",
        "\n",
        "def main():\n",
        "  lst=get_lst()\n",
        "  shorten(lst)\n",
        "\n",
        "if __name__ == \"__main__\":\n",
        "  main()"
      ],
      "metadata": {
        "id": "T6Q6BbfSB9vV"
      },
      "execution_count": null,
      "outputs": []
    },
    {
      "cell_type": "code",
      "source": [],
      "metadata": {
        "id": "UBLj2FQxMMhP"
      },
      "execution_count": null,
      "outputs": []
    }
  ]
}