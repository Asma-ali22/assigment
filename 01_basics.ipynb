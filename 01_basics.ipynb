{
  "nbformat": 4,
  "nbformat_minor": 0,
  "metadata": {
    "colab": {
      "provenance": [],
      "authorship_tag": "ABX9TyPNeznDacDYaeTH12ob5EIL",
      "include_colab_link": true
    },
    "kernelspec": {
      "name": "python3",
      "display_name": "Python 3"
    },
    "language_info": {
      "name": "python"
    }
  },
  "cells": [
    {
      "cell_type": "markdown",
      "metadata": {
        "id": "view-in-github",
        "colab_type": "text"
      },
      "source": [
        "<a href=\"https://colab.research.google.com/github/Asma-ali22/assigment/blob/main/01_basics.ipynb\" target=\"_parent\"><img src=\"https://colab.research.google.com/assets/colab-badge.svg\" alt=\"Open In Colab\"/></a>"
      ]
    },
    {
      "cell_type": "code",
      "execution_count": 8,
      "metadata": {
        "colab": {
          "base_uri": "https://localhost:8080/"
        },
        "id": "sM_WjEleY9zM",
        "outputId": "bc8ac1a1-aa0f-471d-da9d-eac4ffcaafe6"
      },
      "outputs": [
        {
          "output_type": "stream",
          "name": "stdout",
          "text": [
            "00_joke_bot\n",
            "what do you want? jokes\n",
            "Why don’t skeletons fight each other? \n",
            " Because they don’t have the guts. 💀😄\n"
          ]
        }
      ],
      "source": [
        "print(\"00_joke_bot\")\n",
        "\n",
        "PROMPT:str=\"what do you want? \"\n",
        "JOKE:str=\"Why don’t skeletons fight each other? \\n Because they don’t have the guts. 💀😄\"\n",
        "SORRY:str=\"Sorry I only Tell jokes.\"\n",
        "\n",
        "def main():\n",
        "  user_input=input(PROMPT)\n",
        "  user_input=user_input.strip().lower()\n",
        "\n",
        "  if \"jokes\" in user_input:\n",
        "    print(JOKE)\n",
        "  else:\n",
        "    print(SORRY)\n",
        "\n",
        "if __name__ == \"__main__\":\n",
        "  main()\n"
      ]
    },
    {
      "cell_type": "code",
      "source": [
        "print(\"01_double_it\")\n",
        "\n",
        "def main():\n",
        "  user_value=int(input(\"Enter a number: \"))\n",
        "  while user_value<100:\n",
        "    user_value==user_value*2\n",
        "    print(user_value)\n",
        "\n",
        "if __name__ ==\"__main__\":\n",
        "  main()"
      ],
      "metadata": {
        "colab": {
          "base_uri": "https://localhost:8080/"
        },
        "id": "sVQg5wLJpx09",
        "outputId": "5e73990e-12a8-45be-b1be-23924d3c355b"
      },
      "execution_count": null,
      "outputs": [
        {
          "output_type": "stream",
          "name": "stdout",
          "text": [
            "01_double_it\n"
          ]
        }
      ]
    },
    {
      "cell_type": "code",
      "source": [
        "print(\"02_liftoff\")\n",
        "\n",
        "def main():\n",
        "  for i in range(10,0,-1):\n",
        "    print(i,end =\" \")\n",
        "    print(\"liftoff\")\n",
        "\n",
        "if __name__ == \"__main__\":\n",
        "  main()"
      ],
      "metadata": {
        "id": "ydNXX-r9qv_X"
      },
      "execution_count": null,
      "outputs": []
    },
    {
      "cell_type": "code",
      "source": [
        "import random\n",
        "print(\"03_guess_my_number\")\n",
        "\n",
        "def main():\n",
        "  secret_number=random.randint(1,100)\n",
        "  print(\"I am thinking of a number between 1 and 100......\")\n",
        "\n",
        "  guess=int(input(\"Enter a guess:\"))\n",
        "\n",
        "  while guess != secret_number:\n",
        "     if guess < secret_number:\n",
        "       print(\"Your guess is too low.\")\n",
        "  else:\n",
        "      print(\"Your guess is to high.\")\n",
        "  guess=int(input(\"Enter a guess:\"))\n",
        "\n",
        "  print(f\"Congratulation!The number was {secret_number}\")\n",
        "\n",
        "if __name__ == \"__main_\":\n",
        " main()"
      ],
      "metadata": {
        "id": "g72YuuN_q9Ry"
      },
      "execution_count": null,
      "outputs": []
    },
    {
      "cell_type": "code",
      "source": [
        "import random\n",
        "print(\"04_random_numbers\")\n",
        "\n",
        "def main():\n",
        "  for _ in range(10)\n",
        "  print(random.randint(1,100),end = \" \")\n",
        "\n",
        "if __name__ == \"__main__\":\n",
        "  main()\n"
      ],
      "metadata": {
        "id": "1YLj-ZFfroGZ"
      },
      "execution_count": null,
      "outputs": []
    }
  ]
}