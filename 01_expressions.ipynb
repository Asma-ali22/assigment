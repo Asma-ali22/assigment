{
  "nbformat": 4,
  "nbformat_minor": 0,
  "metadata": {
    "colab": {
      "provenance": [],
      "authorship_tag": "ABX9TyOqTQ3xOIGpcQnUL5nigub4",
      "include_colab_link": true
    },
    "kernelspec": {
      "name": "python3",
      "display_name": "Python 3"
    },
    "language_info": {
      "name": "python"
    }
  },
  "cells": [
    {
      "cell_type": "markdown",
      "metadata": {
        "id": "view-in-github",
        "colab_type": "text"
      },
      "source": [
        "<a href=\"https://colab.research.google.com/github/Asma-ali22/assigment/blob/main/01_expressions.ipynb\" target=\"_parent\"><img src=\"https://colab.research.google.com/assets/colab-badge.svg\" alt=\"Open In Colab\"/></a>"
      ]
    },
    {
      "cell_type": "code",
      "execution_count": null,
      "metadata": {
        "id": "e-99AOCktb9-"
      },
      "outputs": [],
      "source": []
    },
    {
      "cell_type": "code",
      "source": [
        "import random\n",
        "print(\"01_dicesimulator\")\n",
        "\n",
        "def roll_dice():\n",
        "  die1:int=random.randint(1,6)\n",
        "  die2:int=random.randint(1,6)\n",
        "  total:int=die1+die2\n",
        "  print(f'Total of two dies:{total}')\n",
        "\n",
        "def main():\n",
        "  die1:int=10\n",
        "  print(\"die1 in main() start as:\" +str(die1))\n",
        "  roll_dice()\n",
        "  roll_dice()\n",
        "  roll_dice()\n",
        "  print('die1 in main()is :' + str(die1))\n",
        "\n",
        "if __name__ == \"__main__\":\n",
        "  main()"
      ],
      "metadata": {
        "colab": {
          "base_uri": "https://localhost:8080/"
        },
        "id": "KG2JLYsiuqU_",
        "outputId": "e4357090-a6b1-4809-f9a9-3b3dc0964284"
      },
      "execution_count": 4,
      "outputs": [
        {
          "output_type": "stream",
          "name": "stdout",
          "text": [
            "01_dicesimulator\n",
            "die1 in main() start as:10\n",
            "Total of two dies:7\n",
            "Total of two dies:8\n",
            "Total of two dies:4\n",
            "die1 in main()is :10\n"
          ]
        }
      ]
    },
    {
      "cell_type": "code",
      "source": [
        "print(\"/02_e=mc2\")\n",
        "\n",
        "def energy():\n",
        "  c:float=299792458\n",
        "  m:float=float(input(\"Enter kilos of mass:\"))\n",
        "  print(\"e=m*c^2\")\n",
        "  print(\"Mass =\" +str(m) + \" kg\")\n",
        "  print(\"C =\" + str(c) + \" m/s\")\n",
        "  print(\"e =\" +str(m+c**2) + \" joules\")\n",
        "\n",
        "if __name__ == \"__main__\":\n",
        "  energy()"
      ],
      "metadata": {
        "colab": {
          "base_uri": "https://localhost:8080/"
        },
        "id": "MTWOprg04xk3",
        "outputId": "63ec687e-c86a-4c1e-939e-b20532bc08b2"
      },
      "execution_count": 5,
      "outputs": [
        {
          "output_type": "stream",
          "name": "stdout",
          "text": [
            "/02_e=mc2\n",
            "Enter kilos of mass:56\n",
            "e=m*c^2\n",
            "Mass =56.0 kg\n",
            "C =299792458 m/s\n",
            "e =8.987551787368182e+16 joules\n"
          ]
        }
      ]
    },
    {
      "cell_type": "code",
      "source": [
        "print(\"03_feet_to_inches\")\n",
        "\n",
        "inch:int=12\n",
        "\n",
        "def foot():\n",
        "  feet:int=int(input(\"Enter the feet and i will conveert into inches.\"))\n",
        "  print(f'There are{inch*feet} inches in {feet} feet.')\n",
        "\n",
        "if __name__ == \"__main__\":\n",
        "  foot()"
      ],
      "metadata": {
        "colab": {
          "base_uri": "https://localhost:8080/"
        },
        "id": "f0mDgA2Z6kGK",
        "outputId": "cde6537f-0d9a-41b4-fd4e-c3fc7b8f77c5"
      },
      "execution_count": 6,
      "outputs": [
        {
          "output_type": "stream",
          "name": "stdout",
          "text": [
            "03_feet_to_inches\n",
            "Enter the feet and i will conveert into inches.67\n",
            "There are804 inches in 67 feet.\n"
          ]
        }
      ]
    },
    {
      "cell_type": "code",
      "source": [
        "import math\n",
        "print(\"04_pythagorean_theorem\")\n",
        "\n",
        "def triangle():\n",
        "  ab:float=float(input('Enter the length of the side ab. '))\n",
        "  ac:float=float(input('Enter the length of the side ac. '))\n",
        "  bc:float=math.sqrt(ab**2 + ac**2)\n",
        "  print(f'The length of bc(the hypothenus is :{bc})')\n",
        "\n",
        "if __name__ ==\"__main__\":\n",
        " triangle()\n"
      ],
      "metadata": {
        "colab": {
          "base_uri": "https://localhost:8080/"
        },
        "id": "vGt31jiW9FLH",
        "outputId": "031edadf-18f9-4ab8-ffa5-2f5a89b0aaee"
      },
      "execution_count": 7,
      "outputs": [
        {
          "output_type": "stream",
          "name": "stdout",
          "text": [
            "04_pythagorean_theorem\n",
            "Enter the length of the side ab. 45\n",
            "Enter the length of the side ac. 8\n",
            "The length of bc(the hypothenus is :45.70557952810576)\n"
          ]
        }
      ]
    },
    {
      "cell_type": "code",
      "source": [
        "print(\"05_remainder_division\")\n",
        "\n",
        "def remainder():\n",
        "  num1:int=int(input(\"Enter an integer to be divided :\"))\n",
        "  num2:int=int(input(\"Enter an integer to  divided by :\"))\n",
        "  quotient:int=num1//num2\n",
        "  remainder:int=num1%num2\n",
        "  print(f'The result of following division is {quotient} with the reaminder of {remainder}' )\n",
        "\n",
        "if __name__ == \"__main__\":\n",
        "  remainder()"
      ],
      "metadata": {
        "colab": {
          "base_uri": "https://localhost:8080/"
        },
        "id": "9z-A03ra-18L",
        "outputId": "bb161799-43b4-48e5-fe78-56b9300d730b"
      },
      "execution_count": 10,
      "outputs": [
        {
          "output_type": "stream",
          "name": "stdout",
          "text": [
            "05_remainder_division\n",
            "Enter an integer to be divided :200\n",
            "Enter an integer to  divided by :2\n",
            "The result of following division is 100 with the reaminder of 0\n"
          ]
        }
      ]
    },
    {
      "cell_type": "code",
      "source": [
        "import math\n",
        "print('06_rolldice')\n",
        "\n",
        "def dice():\n",
        "  die1:int=random.randint(1,6)\n",
        "  die2:int=random.randint(1,6)\n",
        "  total:int=int(die1+die2)\n",
        "  print(\"first die :\" +str(die1))\n",
        "  print(\"second die :\" + str(die2))\n",
        "  print(f'Total of two dies:{total}')\n",
        "\n",
        "if __name__ == \"__main__\":\n",
        "  dice()\n"
      ],
      "metadata": {
        "colab": {
          "base_uri": "https://localhost:8080/"
        },
        "id": "3WJJ5gANAWSt",
        "outputId": "a01a7649-727f-4414-9ccc-a022763a08a3"
      },
      "execution_count": 13,
      "outputs": [
        {
          "output_type": "stream",
          "name": "stdout",
          "text": [
            "06_rolldice\n",
            "first die :2\n",
            "second die :5\n",
            "Total of two dies:7\n"
          ]
        }
      ]
    },
    {
      "cell_type": "code",
      "source": [
        "print(\"06_seconds_in_year\")\n",
        "\n",
        "days_in_year:int=365\n",
        "hours_per_day:int=24\n",
        "minutes_per_hour:int=60\n",
        "second_per_minute:int=60\n",
        "\n",
        "def seconds():\n",
        "  print(f'There are {days_in_year * hours_per_day * minutes_per_hour * second_per_minute} seconds in a year')\n",
        "\n",
        "if __name__ ==\"__main__\":\n",
        "  seconds()"
      ],
      "metadata": {
        "colab": {
          "base_uri": "https://localhost:8080/"
        },
        "id": "d7KXbHDhB5A-",
        "outputId": "953267d3-be46-4eee-9767-75f9ebf3b607"
      },
      "execution_count": 14,
      "outputs": [
        {
          "output_type": "stream",
          "name": "stdout",
          "text": [
            "06_seconds_in_year\n",
            "There are 31536000 seconds in a year\n"
          ]
        }
      ]
    },
    {
      "cell_type": "code",
      "source": [],
      "metadata": {
        "id": "2oWiTcpoD_GI"
      },
      "execution_count": null,
      "outputs": []
    },
    {
      "cell_type": "code",
      "source": [
        "print('07_tiny_mad_lib')\n",
        "\n",
        "def mad_libs():\n",
        "  noun:str=str(input(\"Enter a noun: \"))\n",
        "  adjective:str=str(input(\"Enter a adjective: \"))\n",
        "  verb:str=str(input(\"Enter a verb: \"))\n",
        "  print(f'Do you {verb} your {adjective} {noun}')\n",
        "\n",
        "if __name__ == \"__main__\":\n",
        "  mad_libs()"
      ],
      "metadata": {
        "colab": {
          "base_uri": "https://localhost:8080/"
        },
        "id": "0lO_SBkeDBPw",
        "outputId": "4e4f0db3-e684-4d98-d821-2fdd33c8aaf7"
      },
      "execution_count": 18,
      "outputs": [
        {
          "output_type": "stream",
          "name": "stdout",
          "text": [
            "07_tiny_mad_lib\n",
            "Enter a noun: dog\n",
            "Enter a adjective: barking\n",
            "Enter a verb: loudly\n",
            "Do you loudly your barking dog\n"
          ]
        }
      ]
    }
  ]
}