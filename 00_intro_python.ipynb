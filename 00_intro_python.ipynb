{
  "nbformat": 4,
  "nbformat_minor": 0,
  "metadata": {
    "colab": {
      "provenance": [],
      "authorship_tag": "ABX9TyOvRWMM3WsqzMvEQfBb4DZ7",
      "include_colab_link": true
    },
    "kernelspec": {
      "name": "python3",
      "display_name": "Python 3"
    },
    "language_info": {
      "name": "python"
    }
  },
  "cells": [
    {
      "cell_type": "markdown",
      "metadata": {
        "id": "view-in-github",
        "colab_type": "text"
      },
      "source": [
        "<a href=\"https://colab.research.google.com/github/Asma-ali22/assigmnet4/blob/main/00_intro_python.ipynb\" target=\"_parent\"><img src=\"https://colab.research.google.com/assets/colab-badge.svg\" alt=\"Open In Colab\"/></a>"
      ]
    },
    {
      "cell_type": "code",
      "source": [
        "print(\"01_add_two_numbers\")\n",
        "\n",
        "def add():\n",
        "  print(\"This application for add two numbers\")\n",
        "  first_number=int(input(\"Enter your first number\"))\n",
        "  second_number=int(input(\"Enter your second number.\"))\n",
        "  total=int(first_number + second_number)\n",
        "  print(f'The total sum of {first_number} and {second_number} is {total}')\n",
        "\n",
        "if __name__ == \"__main__\":\n",
        "  add()"
      ],
      "metadata": {
        "colab": {
          "base_uri": "https://localhost:8080/"
        },
        "id": "f3FAlJpd9-tW",
        "outputId": "fe99eb1b-bd5f-4d4d-ca96-2956f9b8ee4a"
      },
      "execution_count": 2,
      "outputs": [
        {
          "output_type": "stream",
          "name": "stdout",
          "text": [
            "01_add_two_numbers\n",
            "This application for add two numbers\n",
            "Enter your first number6\n",
            "Enter your second number.7\n",
            "The total sum of 6 and 7 is 13\n"
          ]
        }
      ]
    },
    {
      "cell_type": "code",
      "source": [
        "print(\"01_add_two_numbers\")\n",
        "\n",
        "def add():\n",
        "  print(\"This application for add two numbers\")\n",
        "  first_number=int(input(\"Enter your first number\"))\n",
        "  second_number=int(input(\"Enter your second number.\"))\n",
        "  total=int(first_number + second_number)\n",
        "  print(f'The total sum of {first_number} and {second_number} is {total}')\n",
        "\n",
        "if __name__ == \"__main__\":\n",
        "  add()"
      ],
      "metadata": {
        "colab": {
          "base_uri": "https://localhost:8080/"
        },
        "outputId": "fe99eb1b-bd5f-4d4d-ca96-2956f9b8ee4a",
        "id": "CoEX1YKUJYsF"
      },
      "execution_count": null,
      "outputs": [
        {
          "output_type": "stream",
          "name": "stdout",
          "text": [
            "01_add_two_numbers\n",
            "This application for add two numbers\n",
            "Enter your first number6\n",
            "Enter your second number.7\n",
            "The total sum of 6 and 7 is 13\n"
          ]
        }
      ]
    },
    {
      "cell_type": "code",
      "source": [
        "print(\"02_agreement_bot\")\n",
        "\n",
        "def bot():\n",
        "  animal=str(input(\"what their favourite animal is?\"))\n",
        "  print(f'my favourite animal is also {animal}!')\n",
        "\n",
        "if __name__ == \"__main__\":\n",
        " bot()"
      ],
      "metadata": {
        "colab": {
          "base_uri": "https://localhost:8080/"
        },
        "id": "8XRLP454_9aB",
        "outputId": "2331b7a0-ee4a-4a4a-efbb-2c4e2014241b"
      },
      "execution_count": 5,
      "outputs": [
        {
          "output_type": "stream",
          "name": "stdout",
          "text": [
            "02_agreement_bot\n",
            "what their favourite animal is?cat\n",
            "my favourite animal is also cat!\n"
          ]
        }
      ]
    },
    {
      "cell_type": "code",
      "source": [
        "print(\"03_fahrenheit_to_celsius\")\n",
        "\n",
        "def temp():\n",
        "  print(\"YThis code for converting fahrenheit to celsius\")\n",
        "  fahrenheit_degree =float(input(\"Enter your fahrenheit degree \"))\n",
        "  celsius_degree =(fahrenheit_degree -32)*5.0/9.0\n",
        "  print(f'Temperature {fahrenheit_degree}F ={celsius_degree}C')\n",
        "\n",
        "if __name__ == \"__main__\":\n",
        "  temp()"
      ],
      "metadata": {
        "colab": {
          "base_uri": "https://localhost:8080/"
        },
        "id": "xXloTY3rBK_p",
        "outputId": "e0ff984d-f72c-437a-e3cd-0d752d2991f5"
      },
      "execution_count": 9,
      "outputs": [
        {
          "output_type": "stream",
          "name": "stdout",
          "text": [
            "03_fahrenheit_to_celsius\n",
            "YThis code for converting fahrenheit to celsius\n",
            "Enter your fahrenheit degree 45\n",
            "Temperature 45.0F =7.222222222222222C\n"
          ]
        }
      ]
    },
    {
      "cell_type": "code",
      "source": [
        "print(\"04_how_old_are_they\")\n",
        "\n",
        "def add_ages():\n",
        "  anthon :int= 21\n",
        "  beth :int= anthon+6\n",
        "  chen :int= beth+20\n",
        "  drew :int =chen +anthon\n",
        "  ethan :int=chen\n",
        "\n",
        "  print(\"Anthon is\"  +  str (anthon))\n",
        "  print(\"Beth is\" +  str(beth))\n",
        "  print(\"Chen is\" + str(chen))\n",
        "  print(\"Drew is\" + str(drew))\n",
        "  print(\"Ethan is\" + str(ethan))\n",
        "\n",
        "if __name__ == \"__main__\":\n",
        "  add_ages()\n"
      ],
      "metadata": {
        "colab": {
          "base_uri": "https://localhost:8080/"
        },
        "id": "hYrt2cSSCxcs",
        "outputId": "cfa63aa4-9166-4975-9cd3-15400a43ac6c"
      },
      "execution_count": 18,
      "outputs": [
        {
          "output_type": "stream",
          "name": "stdout",
          "text": [
            "04_how_old_are_they\n",
            "Anthon is21\n",
            "Beth is27\n",
            "Chen is47\n",
            "Drew is68\n",
            "Ethan is47\n"
          ]
        }
      ]
    },
    {
      "cell_type": "code",
      "source": [
        "print(\"05_triangle_perimeter\")\n",
        "\n",
        "def triangle():\n",
        "  print(\"This code is about perimeter of traingle sides\")\n",
        "\n",
        "  side1:float=float(input(\"Enter your first  side no of triangle. \"))\n",
        "  side2:float=float(input(\"Enter your second  side no of triangle. \"))\n",
        "  side3:float=float(input(\"Enter your third  side no of triangle. \"))\n",
        "  total:float =float(side1 +side2 +side3)\n",
        "  print(f'The perimeter of triangle is {total}')\n",
        "\n",
        "if __name__ == \"__main__\":\n",
        " triangle()"
      ],
      "metadata": {
        "colab": {
          "base_uri": "https://localhost:8080/"
        },
        "id": "qUmtAlUYFJtP",
        "outputId": "ce942f78-dc73-41e9-afba-f1969c10228d"
      },
      "execution_count": 21,
      "outputs": [
        {
          "output_type": "stream",
          "name": "stdout",
          "text": [
            "05_triangle_perimeter\n",
            "This code is about perimeter of traingle sides\n",
            "Enter your first  side no of triangle. 5\n",
            "Enter your second  side no of triangle. 5\n",
            "Enter your third  side no of triangle. 8\n",
            "The perimeter of triangle is 18.0\n"
          ]
        }
      ]
    },
    {
      "cell_type": "code",
      "source": [
        "print(\"06_square_number\")\n",
        "\n",
        "def square():\n",
        "  print(\"This code is about square of given number\")\n",
        "  num1:int=int(input(\"Enter any number and i will give you a square value .\"))\n",
        "  print(f'The square of {num1} is {num1 **2}')\n",
        "\n",
        "if __name__ == \"__main__\":\n",
        "  square()"
      ],
      "metadata": {
        "colab": {
          "base_uri": "https://localhost:8080/"
        },
        "id": "CHVY4aanG0HF",
        "outputId": "d8623af2-965c-4473-860a-7007bb815ae0"
      },
      "execution_count": 22,
      "outputs": [
        {
          "output_type": "stream",
          "name": "stdout",
          "text": [
            "06_square_number\n",
            "This code is about square of given number\n",
            "Enter any number and i will give you a square value .6\n",
            "The square of 6 is 36\n"
          ]
        }
      ]
    }
  ]
}