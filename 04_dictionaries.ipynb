{
  "cells": [
    {
      "cell_type": "markdown",
      "metadata": {
        "id": "view-in-github",
        "colab_type": "text"
      },
      "source": [
        "<a href=\"https://colab.research.google.com/github/Asma-ali22/assigment/blob/main/04_dictionaries.ipynb\" target=\"_parent\"><img src=\"https://colab.research.google.com/assets/colab-badge.svg\" alt=\"Open In Colab\"/></a>"
      ]
    },
    {
      "cell_type": "code",
      "execution_count": null,
      "metadata": {
        "colab": {
          "base_uri": "https://localhost:8080/"
        },
        "id": "yUzB7du7vk7a",
        "outputId": "20dc508c-33e9-4b19-9f43-002c0355baf0"
      },
      "outputs": [
        {
          "name": "stdout",
          "output_type": "stream",
          "text": [
            "00_count_nums\n"
          ]
        }
      ],
      "source": [
        "print(\"00_count_nums\")\n",
        "\n",
        "def count_numbers():\n",
        "  count_dict={}\n",
        "\n",
        "  while True:\n",
        "    num=input(\"Enter a numvber (or 'Exit' to quit): \")\n",
        "    if num.lower()=='Exit':\n",
        "      break\n",
        "    if num.isdigit():\n",
        "       num=int(num)\n",
        "       count_dict[num]=count_dict.get(num,0)+1\n",
        "       print(count_dict)\n",
        "    else:\n",
        "      print(\"Invalid input.Please enter a number or 'Exit'. \")\n",
        "      return count_dict\n",
        "\n",
        "def display_counts(count_dict):\n",
        "    print(\"\\n Number counts:\")\n",
        "    for key,value in count_dict.items():\n",
        "        print(f'{key} appears {value} times')\n",
        "\n",
        "if __name__ == \"main__\":\n",
        "  counts=count_numbers()\n",
        "  display_counts(counts)"
      ]
    },
    {
      "cell_type": "code",
      "execution_count": 1,
      "metadata": {
        "colab": {
          "base_uri": "https://localhost:8080/",
          "height": 478
        },
        "id": "WTmGEP9W08ow",
        "outputId": "76d1a7be-439d-4268-b3b2-74d076506fa1"
      },
      "outputs": [
        {
          "metadata": {
            "tags": null
          },
          "name": "stdout",
          "output_type": "stream",
          "text": [
            "01_phonebook\n",
            "/n phonebook menu\n",
            "/1 Add contact\n",
            "/2 Search contact\n",
            "/3 Delete Contact\n",
            "/4 Display contact\n",
            "/5 Exit\n"
          ]
        },
        {
          "output_type": "error",
          "ename": "KeyboardInterrupt",
          "evalue": "Interrupted by user",
          "traceback": [
            "\u001b[0;31m---------------------------------------------------------------------------\u001b[0m",
            "\u001b[0;31mKeyboardInterrupt\u001b[0m                         Traceback (most recent call last)",
            "\u001b[0;32m<ipython-input-1-c625e58b682a>\u001b[0m in \u001b[0;36m<cell line: 0>\u001b[0;34m()\u001b[0m\n\u001b[1;32m     46\u001b[0m     \u001b[0mprint\u001b[0m\u001b[0;34m(\u001b[0m\u001b[0;34m\"/5 Exit\"\u001b[0m\u001b[0;34m)\u001b[0m\u001b[0;34m\u001b[0m\u001b[0;34m\u001b[0m\u001b[0m\n\u001b[1;32m     47\u001b[0m \u001b[0;34m\u001b[0m\u001b[0m\n\u001b[0;32m---> 48\u001b[0;31m     \u001b[0mchoice\u001b[0m\u001b[0;34m=\u001b[0m\u001b[0minput\u001b[0m\u001b[0;34m(\u001b[0m\u001b[0;34m\"enter your choice(1-5):\"\u001b[0m\u001b[0;34m)\u001b[0m\u001b[0;34m\u001b[0m\u001b[0;34m\u001b[0m\u001b[0m\n\u001b[0m\u001b[1;32m     49\u001b[0m \u001b[0;34m\u001b[0m\u001b[0m\n\u001b[1;32m     50\u001b[0m     \u001b[0;32mif\u001b[0m \u001b[0mchoice\u001b[0m\u001b[0;34m==\u001b[0m\u001b[0;34m'1'\u001b[0m\u001b[0;34m:\u001b[0m\u001b[0;34m\u001b[0m\u001b[0;34m\u001b[0m\u001b[0m\n",
            "\u001b[0;32m/usr/local/lib/python3.11/dist-packages/ipykernel/kernelbase.py\u001b[0m in \u001b[0;36mraw_input\u001b[0;34m(self, prompt)\u001b[0m\n\u001b[1;32m   1175\u001b[0m                 \u001b[0;34m\"raw_input was called, but this frontend does not support input requests.\"\u001b[0m\u001b[0;34m\u001b[0m\u001b[0;34m\u001b[0m\u001b[0m\n\u001b[1;32m   1176\u001b[0m             )\n\u001b[0;32m-> 1177\u001b[0;31m         return self._input_request(\n\u001b[0m\u001b[1;32m   1178\u001b[0m             \u001b[0mstr\u001b[0m\u001b[0;34m(\u001b[0m\u001b[0mprompt\u001b[0m\u001b[0;34m)\u001b[0m\u001b[0;34m,\u001b[0m\u001b[0;34m\u001b[0m\u001b[0;34m\u001b[0m\u001b[0m\n\u001b[1;32m   1179\u001b[0m             \u001b[0mself\u001b[0m\u001b[0;34m.\u001b[0m\u001b[0m_parent_ident\u001b[0m\u001b[0;34m[\u001b[0m\u001b[0;34m\"shell\"\u001b[0m\u001b[0;34m]\u001b[0m\u001b[0;34m,\u001b[0m\u001b[0;34m\u001b[0m\u001b[0;34m\u001b[0m\u001b[0m\n",
            "\u001b[0;32m/usr/local/lib/python3.11/dist-packages/ipykernel/kernelbase.py\u001b[0m in \u001b[0;36m_input_request\u001b[0;34m(self, prompt, ident, parent, password)\u001b[0m\n\u001b[1;32m   1217\u001b[0m             \u001b[0;32mexcept\u001b[0m \u001b[0mKeyboardInterrupt\u001b[0m\u001b[0;34m:\u001b[0m\u001b[0;34m\u001b[0m\u001b[0;34m\u001b[0m\u001b[0m\n\u001b[1;32m   1218\u001b[0m                 \u001b[0;31m# re-raise KeyboardInterrupt, to truncate traceback\u001b[0m\u001b[0;34m\u001b[0m\u001b[0;34m\u001b[0m\u001b[0m\n\u001b[0;32m-> 1219\u001b[0;31m                 \u001b[0;32mraise\u001b[0m \u001b[0mKeyboardInterrupt\u001b[0m\u001b[0;34m(\u001b[0m\u001b[0;34m\"Interrupted by user\"\u001b[0m\u001b[0;34m)\u001b[0m \u001b[0;32mfrom\u001b[0m \u001b[0;32mNone\u001b[0m\u001b[0;34m\u001b[0m\u001b[0;34m\u001b[0m\u001b[0m\n\u001b[0m\u001b[1;32m   1220\u001b[0m             \u001b[0;32mexcept\u001b[0m \u001b[0mException\u001b[0m\u001b[0;34m:\u001b[0m\u001b[0;34m\u001b[0m\u001b[0;34m\u001b[0m\u001b[0m\n\u001b[1;32m   1221\u001b[0m                 \u001b[0mself\u001b[0m\u001b[0;34m.\u001b[0m\u001b[0mlog\u001b[0m\u001b[0;34m.\u001b[0m\u001b[0mwarning\u001b[0m\u001b[0;34m(\u001b[0m\u001b[0;34m\"Invalid Message:\"\u001b[0m\u001b[0;34m,\u001b[0m \u001b[0mexc_info\u001b[0m\u001b[0;34m=\u001b[0m\u001b[0;32mTrue\u001b[0m\u001b[0;34m)\u001b[0m\u001b[0;34m\u001b[0m\u001b[0;34m\u001b[0m\u001b[0m\n",
            "\u001b[0;31mKeyboardInterrupt\u001b[0m: Interrupted by user"
          ]
        }
      ],
      "source": [
        "print(\"01_phonebook\")\n",
        "\n",
        "def add_contact(phonebook):\n",
        "  name=input(\"Enter contact name:\")\n",
        "  number=input(\"Enter contact number:\")\n",
        "\n",
        "  if name in phonebook:\n",
        "    print(f\"{name} already in the phonebook:\")\n",
        "  else:\n",
        "    phonebook[name]=number\n",
        "    print(f'{name}added to the phonebook.')\n",
        "\n",
        "def search_contacts(phonebook):\n",
        "  name=input(\"Enter contact name to search:\")\n",
        "\n",
        "  if name in phonebook:\n",
        "    print(f'{name}:{phonebook[name]}')\n",
        "  else:\n",
        "    print(f'{name}not found in the notebook')\n",
        "\n",
        "def delete_contact(phonebook):\n",
        "  name=input(\"Enter contact name to delete:\")\n",
        "  if name in phonebook:\n",
        "    del phonebook[name]\n",
        "    print(f'{name} deleted from the phonebook.')\n",
        "  else:\n",
        "      print(f\"{name} not found in phonebookn\")\n",
        "\n",
        "def display_contact(phonebook):\n",
        "  if phonebook:\n",
        "    print(\"\\n phonebook contact list\")\n",
        "    for name,number in phonebook.items():\n",
        "      print(f'{name}:{number}')\n",
        "    else:\n",
        "      print(\"phonebook is empty\")\n",
        "\n",
        "if __name__==\"__main__\":\n",
        "  phonebook={}\n",
        "\n",
        "  while True:\n",
        "    print(\"/n phonebook menu\")\n",
        "    print(\"/1 Add contact\")\n",
        "    print(\"/2 Search contact\")\n",
        "    print(\"/3 Delete Contact\")\n",
        "    print(\"/4 Display contact\")\n",
        "    print(\"/ 5 Exit\")\n",
        "\n",
        "    choice=input(\"enter your choice(1-5):\")\n",
        "\n",
        "    if choice=='1':\n",
        "      add_contact(phonebook)\n",
        "    elif choice =='2':\n",
        "      search_contacts(phonebook)\n",
        "    elif choice =='3':\n",
        "      delete_contact(phonebook)\n",
        "    elif choice == '4':\n",
        "      display_contact(phonebook)\n",
        "    elif choice == '5':\n",
        "      print(\"Exiting phonebook.Goodbye!\")\n",
        "      break\n",
        "    else:\n",
        "      print(\"Invalid choice.Please enter a number between 1 to 5.\")"
      ]
    },
    {
      "cell_type": "code",
      "source": [
        "print(\"02_pop_up_shop\")\n",
        "\n",
        "def calculate_total_cost():\n",
        "  fruits_price={\n",
        "      \"apple\":5.0,\n",
        "      \"mango\":15.0,\n",
        "      \"kiwi\":8.0,\n",
        "      \"pear\":12.0,\n",
        "      \"banana\":6.0,\n",
        "      \"orange\":10.0\n",
        "\n",
        "  }\n",
        "  total_cost=0\n",
        "\n",
        "  for fruits,price in fruits_price.items():\n",
        "    while True:\n",
        "      try:\n",
        "        quantity=int(input(f'How many {fruits} do you want ?: '))\n",
        "        if quantity < 0:\n",
        "          print(\"Invalid input.Please enter a non-negative number.\")\n",
        "          continue\n",
        "        total_cost += price *quantity\n",
        "        break\n",
        "      except ValueError:\n",
        "           print(\"Invalid input.Please enter a valod number. \")\n",
        "\n",
        "      print(f'\\n Your total cost is :${total_cost:.2f}')\n",
        "\n",
        "if __name__== \"__main__\":\n",
        "  calculate_total_cost()"
      ],
      "metadata": {
        "colab": {
          "base_uri": "https://localhost:8080/"
        },
        "id": "k1nnlGNzSYn4",
        "outputId": "ffc1f5d4-ff00-430b-cb7d-6576b2b77070"
      },
      "execution_count": null,
      "outputs": [
        {
          "name": "stdout",
          "output_type": "stream",
          "text": [
            "02_pop_up_shop\n",
            "How many apple do you want ?: 6\n",
            "How many mango do you want ?: 7\n",
            "How many kiwi do you want ?: 8\n"
          ]
        }
      ]
    },
    {
      "cell_type": "code",
      "source": [
        "from _typeshed import SupportsNoArgReadline\n",
        "import hashlib\n",
        "print(\"03_powerful_passwords\")\n",
        "\n",
        "def hash_password(password):\n",
        "  return hashlib.sha256(password.encode()).hexdigest()\n",
        "\n",
        "stored_logoin ={\n",
        "    \"user@example.com\":hash_password(\"pasword123\"),\n",
        "    \"admin@example.com\":hash_password(\"adminpass\")\n",
        "}\n",
        "\n",
        "def login(email,password):\n",
        "  if email in stored_logoin:\n",
        "    return stored_logoin[email] == hash_password(password)\n",
        "  return False\n",
        "\n",
        "if __name__ ==\"__main__\":\n",
        "  email=input(\"Enter your email: \")\n",
        "  password=input(\"Enter your password:\")\n",
        "\n",
        "\n",
        "  if login(email,password):\n",
        "    print(\"login successfully\")\n",
        "  else:\n",
        "    print(\"Invalid email or password\")"
      ],
      "metadata": {
        "id": "ER-lmVt0badC"
      },
      "execution_count": null,
      "outputs": []
    },
    {
      "cell_type": "code",
      "execution_count": null,
      "metadata": {
        "id": "_CXZ47_RzIak"
      },
      "outputs": [],
      "source": []
    }
  ],
  "metadata": {
    "colab": {
      "provenance": [],
      "authorship_tag": "ABX9TyNdEmpTmiJu9rNLOQKA7UlV",
      "include_colab_link": true
    },
    "kernelspec": {
      "display_name": "Python 3",
      "name": "python3"
    },
    "language_info": {
      "name": "python"
    }
  },
  "nbformat": 4,
  "nbformat_minor": 0
}