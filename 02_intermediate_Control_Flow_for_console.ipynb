{
  "nbformat": 4,
  "nbformat_minor": 0,
  "metadata": {
    "colab": {
      "provenance": [],
      "authorship_tag": "ABX9TyNNiFpJzG3uRdq7qoyXmsTI",
      "include_colab_link": true
    },
    "kernelspec": {
      "name": "python3",
      "display_name": "Python 3"
    },
    "language_info": {
      "name": "python"
    }
  },
  "cells": [
    {
      "cell_type": "markdown",
      "metadata": {
        "id": "view-in-github",
        "colab_type": "text"
      },
      "source": [
        "<a href=\"https://colab.research.google.com/github/Asma-ali22/assigment/blob/main/02_intermediate_Control_Flow_for_console.ipynb\" target=\"_parent\"><img src=\"https://colab.research.google.com/assets/colab-badge.svg\" alt=\"Open In Colab\"/></a>"
      ]
    },
    {
      "cell_type": "code",
      "execution_count": null,
      "metadata": {
        "colab": {
          "base_uri": "https://localhost:8080/"
        },
        "id": "elaVlajfoCuv",
        "outputId": "8db99562-cc9a-408f-95ba-49187c0feede"
      },
      "outputs": [
        {
          "metadata": {
            "tags": null
          },
          "name": "stdout",
          "output_type": "stream",
          "text": [
            " High Low Game\n",
            "Welcome to the high low game\n",
            "**************************\n",
            "Round 1\n",
            "Your number is 33\n"
          ]
        }
      ],
      "source": [
        "import random\n",
        "\n",
        "print(\" High Low Game\")\n",
        "\n",
        "round=5\n",
        "\n",
        "def main():\n",
        "  print(\"Welcome to the high low game\")\n",
        "  print(\"**************************\")\n",
        "\n",
        "  your_score=0\n",
        "\n",
        "  for i in range(round):\n",
        "    print(\"Round\",i +1 )\n",
        "\n",
        "    computer_number:int=random.randint(1,100)\n",
        "    your_number:int=random.randint(1,100)\n",
        "    print(\"Your number is\",your_number)\n",
        "\n",
        "    choice:str=input(\"Do you think your number is higher or lower than tha computers number? \")\n",
        "    higher_and_correct:bool=choice == \"higher\" and your_number > computer_number\n",
        "    lower_and_correct:bool=choice == \"lower\" and your_number < computer_number\n",
        "\n",
        "    if higher_and_correct or lower_and_correct:\n",
        "      print(\"You were right! The computer\\'s number was \" , computer_number)\n",
        "      score += 1\n",
        "    else:\n",
        "      print(\"That is incorrect. The computer/'s number was \",computer_number)\n",
        "\n",
        "    print(\"your score is now\",score)\n",
        "    print()\n",
        "\n",
        "  print('Thanks for playing')\n",
        "\n",
        "if __name__ == \"__main__\":\n",
        "  main()\n"
      ]
    },
    {
      "cell_type": "code",
      "source": [
        "print(\"Planetary Weight Calculator\")\n",
        "\n",
        "def main():\n",
        "  print(\"Welcome to the Planetary weight calculator\")\n",
        "  print(\"******************************************\")\n",
        "\n",
        "earth_weight=float(input(\"Enter your weight on Earth: \"))\n",
        "\n",
        "gravity_ratios={\n",
        "    \"Mercury\":0.38,\n",
        "    \"Venus\":0.91,\n",
        "    \"Mars\":0.38,\n",
        "    \"jupiter\":2.34,\n",
        "    \"saturn\":1.06,\n",
        "    \"Uranus\":0.92,\n",
        "    \"Neptune\":1.19\n",
        "}\n",
        "\n",
        "print(\"\\n Select a planet\")\n",
        "for planet in gravity_ratios:\n",
        "  print(f'-{planet}')\n",
        "\n",
        "planet_choice=input(\"Enter the name of the planer: \").title()\n",
        "\n",
        "if planet_choice in gravity_ratios:\n",
        "   new_weight=earth_weight *gravity_ratios(planet_choice)\n",
        "   print(f'Your weight on {planet_choice} is {new_weight: .2f}kg')\n",
        "\n",
        "else:\n",
        "  print(\"Invalid planet choice\")\n",
        "\n",
        "if __name__ == \"__main__\":\n",
        "  main()"
      ],
      "metadata": {
        "id": "K8AQYE-0vBXq"
      },
      "execution_count": null,
      "outputs": []
    },
    {
      "cell_type": "code",
      "source": [
        "print(\"Lists and Dicts\")\n",
        "\n",
        "my_list=[\"apple\",\"mango\",\"banana\",\"orange\",\"grapes\"]\n",
        "\n",
        "def access-element(my_list,index):\n",
        "  \"\"\"Returns the element at the specified index, or an error message if out of range.\"\"\"\n",
        "  if 0 <= index < len(my_list):\n",
        "    return f'Element at index {index}:{my_list[index]}'\n",
        "  return \"Index out of range\"\n",
        "\n",
        "def modify_element(my_list,index,new_value):\n",
        "  \"\"\"Modiefies the element of the specified index with the new values.\"\"\"\n",
        "  if 0 <= index <len(my_list):\n",
        "    old_value =my_list[index]\n",
        "    my_list[index]=new_value\n",
        "    return f'Element at index {index} modified from {old_vlaue} to{new_vlaue}'\n",
        "  return \"Index out of range\"\n",
        "\n",
        "\n",
        "def slice_list(my_list,start,end):\n",
        "  \"\"\"Returns a new list containing the elements from the start index to the end index (exclusive).\"\"\"\n",
        "  if 0 <= start < len(my_list) and 0 <= len(my_list):\n",
        "    return f'Sliced list:{my_list[start:end]}'\n",
        "  return(\"Invalid slice indicates\")\n",
        "\n",
        "def list_game():\n",
        "  print(\"\\n Welcome to the lidt manipulation\")\n",
        "\n",
        "my_list=[\"apple\",\"mango\",\"banana\",\"orange\",\"grapes\"]\n",
        "while True;\n",
        "    print(\"Current list\",my_list)\n",
        "\n",
        "    print(\"select an option\")\n",
        "    print(\"1. Access Element\")\n",
        "    print(\"2. Modify Element\")\n",
        "    print(\"3. slice list\")\n",
        "    print(\"4. Quit\")\n",
        "\n",
        "   choice=input(\"Enter your choice(1-4): \")\n",
        "\n",
        "   if choice == \"1\":\n",
        "       index =int(input(\"Enter the index of the element you want to access: \"))\n",
        "       print(access_element(my_element,index))\n",
        "\n",
        "   elif choice == \"2\":\n",
        "       index=int(input(\"Enter the index of the element  you want to modify:\"))\n",
        "       new_value=input(\"Enter the new value for the element:\")\n",
        "       print(modify_element(my_list,start,new_vlaue))\n",
        "    elif choice == \"3\":\n",
        "       start=int(input(\"Enter the start index for the slice:\"))\n",
        "       end=int(input(\"Enter the end index for the slice:\"))\n",
        "       print((slice_list(my_list,start,end)))\n",
        "    elif choice == \"4\":\n",
        "       print(\"exciting the game,Thanks for playing,\")\n",
        "       break\n",
        "    else:\n",
        "      print(\"Invalid choice!Please enter a number between i to 4. \")\n",
        "\n",
        "if __name__ == \"__main__\":\n",
        "  list_game()"
      ],
      "metadata": {
        "id": "_B3PJnJoyokj"
      },
      "execution_count": null,
      "outputs": []
    },
    {
      "cell_type": "code",
      "source": [],
      "metadata": {
        "id": "-0JH7wU_qIu4"
      },
      "execution_count": null,
      "outputs": []
    }
  ]
}